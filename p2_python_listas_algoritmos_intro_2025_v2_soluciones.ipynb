{
 "cells": [
  {
   "cell_type": "markdown",
   "id": "73a03059-a31e-40c5-8bf3-68eafcfcb797",
   "metadata": {},
   "source": [
    "### 1. Crear una lista de números y sumar sus elementos:\n",
    "\n",
    "+ Crea una lista con x números aleatoreos del del 1 al 100.\n",
    "+ Usa un bucle para sumar todos los números y mostrar el resultado.\n"
   ]
  },
  {
   "cell_type": "code",
   "execution_count": 7,
   "id": "20c0aa36-0de8-4932-ba7f-84641ab012ca",
   "metadata": {},
   "outputs": [
    {
     "name": "stdout",
     "output_type": "stream",
     "text": [
      "4967 4967\n"
     ]
    },
    {
     "data": {
      "text/plain": [
       "\u001b[31mSignature:\u001b[39m random.randint(a, b)\n",
       "\u001b[31mDocstring:\u001b[39m\n",
       "Return random integer in range [a, b], including both end points.\n",
       "        \n",
       "\u001b[31mFile:\u001b[39m      ~/miniconda3/envs/algos2025/lib/python3.13/random.py\n",
       "\u001b[31mType:\u001b[39m      method"
      ]
     },
     "metadata": {},
     "output_type": "display_data"
    }
   ],
   "source": [
    "import random\n",
    "\n",
    "random.randint?\n",
    "\n",
    "lista_aleatoreos = [random.randint(1, 100) for n in range(100)]\n",
    "\n",
    "def suma_lista_bucle(lista):\n",
    "    \"\"\"\n",
    "    contrato\n",
    "    \"\"\"\n",
    "    suma = 0\n",
    "    for elemento in lista_aleatoreos:\n",
    "        suma = suma + elemento\n",
    "    return suma\n",
    "\n",
    "\n",
    "print(suma_lista_bucle(lista_aleatoreos), sum(lista_aleatoreos))"
   ]
  },
  {
   "cell_type": "markdown",
   "id": "38e01afb-b006-492f-9853-99bbd161966e",
   "metadata": {},
   "source": [
    "### 2. Eliminar elementos repetidos de una lista:\n",
    "\n",
    "+ Crea una lista con varios elementos, algunos de ellos repetidos.\n",
    "+ Elimina los elementos repetidos de la lista y muestra la lista resultante.\n"
   ]
  },
  {
   "cell_type": "code",
   "execution_count": 12,
   "id": "8d2b6055-516c-4577-9cac-6d346ead03c9",
   "metadata": {},
   "outputs": [
    {
     "data": {
      "text/plain": [
       "[1, 'hola', 2.3, 'viaje', 4, 'mundo', [1, 2, 3]]"
      ]
     },
     "execution_count": 12,
     "metadata": {},
     "output_type": "execute_result"
    }
   ],
   "source": [
    "lista_con_repetidos = [1, \"hola\", 2.3, \"viaje\", \"viaje\", 2.3, 1, 1, 4, \"mundo\", [1,2,3], [1,2,3]]\n",
    "\n",
    "\n",
    "# ¿Se puede hacer con while?\n",
    "def limpiar_repetidos(lista):\n",
    "    \"\"\"\n",
    "    contrato\n",
    "    \"\"\"\n",
    "    lista_sin_repetidos=[lista[0]]\n",
    "    for i in range(1, len(lista)):\n",
    "        if lista[i] not in lista_sin_repetidos: \n",
    "            lista_sin_repetidos = lista_sin_repetidos + [lista[i]]\n",
    "    return lista_sin_repetidos\n",
    "\n",
    "limpiar_repetidos(lista_con_repetidos)\n",
    "        \n"
   ]
  },
  {
   "cell_type": "markdown",
   "id": "8fafe7f2-9f6b-450a-8278-52242c773324",
   "metadata": {},
   "source": [
    "Ejemplo de error en código\n",
    "\n",
    "```\n",
    "def limpiar_repetidos(lista):\n",
    "    \"\"\"\n",
    "    contrato\n",
    "    \"\"\"\n",
    "    lista_sin_repetidos=lista[0]\n",
    "    for i in range(1, len(lista)):\n",
    "        if lista_con_repetidos[i] != lista_sin_repetidos[i-1]\n",
    "        lista_sin_repetidos = lista_sin_repetidos + lista_con_repetidos[i]\n",
    "``"
   ]
  },
  {
   "cell_type": "markdown",
   "id": "2f3c386f-1599-4836-a935-973a5de25005",
   "metadata": {},
   "source": [
    "### 3. Ordenar una lista de palabras:\n",
    "\n",
    "+ Crea una lista con al menos 5 palabras.\n",
    "+ Ordena la lista en orden alfabético inverso (Z a A) y muestra la lista ordenada.\n"
   ]
  },
  {
   "cell_type": "code",
   "execution_count": 18,
   "id": "438b3862-fc56-4770-8872-af816236aa67",
   "metadata": {},
   "outputs": [
    {
     "name": "stdout",
     "output_type": "stream",
     "text": [
      "['las', 'llevan', 'mayúsculas', 'ok', 'tilde']\n"
     ]
    }
   ],
   "source": [
    "# Hacerlo sin sort ni sorted es para TP\n",
    "\n",
    "palabras = [\"las\", \"mayúsculas\", \"llevan\", \"tilde\", \"ok\"]\n",
    "\n",
    "palabras.sort()\n",
    "\n",
    "print(palabras)"
   ]
  },
  {
   "cell_type": "markdown",
   "id": "9e3d131f-d4a3-464b-b9b7-41af2cc406f8",
   "metadata": {},
   "source": [
    "### 4. Contar la cantidad de elementos en una lista:\n",
    "\n",
    "+ Crea una lista con al menos 10 elementos.\n",
    "+ Cuenta cuántos elementos tiene la lista y muestra el resultado.\n"
   ]
  },
  {
   "cell_type": "markdown",
   "id": "38d8b343",
   "metadata": {},
   "source": [
    "### 5. Las listas de Pedro\n",
    "\n",
    "Pedro tiene dos listas, la `lista_original` contiene un conjunto de elementos, y la `lista_perdidos` debería contener los mismos elementos, pero algunos han desaparecido o han sido reemplazados.\n",
    "\n",
    "```\n",
    "lista_original = ['manzana', 'banana', 'naranja', 'uva', 'kiwi', 'mango', 'melón', 'sandía', 'frutilla', 'pera', 'limón', 'coco']\n",
    "lista_perdidos = ['banana', 'uva', 'mango', 'manzana', 'pera', 'frutilla', 'ciruela', 'frambuesa']\n",
    "```\n",
    "\n",
    "Escribe un programa que compare ambas listas e identifique los elementos que están presentes en la `lista_original` pero no en la `lista_perdidos`. El programa debería retornar una lista con los elementos desaparecidos."
   ]
  },
  {
   "cell_type": "code",
   "execution_count": 21,
   "id": "ef832c7f-9d1c-4359-a147-9fc56230439d",
   "metadata": {},
   "outputs": [
    {
     "data": {
      "text/plain": [
       "['naranja', 'kiwi', 'melón', 'sandía', 'limón', 'coco']"
      ]
     },
     "execution_count": 21,
     "metadata": {},
     "output_type": "execute_result"
    }
   ],
   "source": [
    "lista_original = ['manzana', 'banana', 'naranja', 'uva', 'kiwi', 'mango', 'melón', 'sandía', 'frutilla', 'pera', 'limón', 'coco']\n",
    "\n",
    "lista_perdidos = ['banana', 'uva', 'mango', 'manzana', 'pera', 'frutilla', 'ciruela', 'frambuesa']\n",
    "\n",
    "def elementos_desaparecidos(lista, sublista):\n",
    "    \"\"\"\n",
    "    contrato\n",
    "    \"\"\"\n",
    "    elementos_desaparecidos = [elemento for elemento in lista if elemento not in sublista]\n",
    "    return elementos_desaparecidos\n",
    "\n",
    "elementos_desaparecidos(lista_original, lista_perdidos)"
   ]
  },
  {
   "cell_type": "code",
   "execution_count": null,
   "id": "ada416f5-81bd-4b36-861e-a5c4341a727c",
   "metadata": {},
   "outputs": [],
   "source": []
  },
  {
   "cell_type": "markdown",
   "id": "926da311",
   "metadata": {},
   "source": [
    "### 6. Pedro incursiona en la venta de vegetales\n",
    "\n",
    "Pedro decidió incursionar en el negocio de la verdulería con una selección de productos frescos. Queremos saber qué podemos comprar de nuestra lista en su local. Como a Pedro le gusta programar, quiere crear un progrma que reciba la lista de compras de sus clientes y les devuelva una sublista con los productos que él tiene en ese momento (excelente servicio). Pedro quiere luego implementar esto en un bot de Telegram y otro de WhatsApp, pero esa parte técnica se la dejaremos a los desarrolladores de bots.\n",
    "\n",
    "El stock de pedro puede variar cada día. Suponiendo que en el día de hoy Pedro cuenta con el sigueinte stock\n",
    "\n",
    "```\n",
    "stock_pedro = ['zanahoria', 'pimiento', 'tomate', 'lechuga', 'cebolla', 'papa', 'batata', 'zapallo', 'acelga', 'espinaca', 'brócoli', 'manzana', 'naranja', 'mandarina', 'frutilla']\n",
    "```\n",
    "\n",
    "Ayudar a Pedro a escribir una función llamada productos_disponibles que tome una lista de compras (lista_de_compras) como argumento y devuelva una sublista con los productos disponibles.\n",
    "\n"
   ]
  },
  {
   "cell_type": "markdown",
   "id": "2ae8703e",
   "metadata": {
    "vscode": {
     "languageId": "plaintext"
    }
   },
   "source": [
    "### 7. Filtrando listas modo pro\n",
    "\n",
    "Tenemos una lista con diferentes tipos de datos: números enteros, números decimales y cadenas de texto.\n",
    "\n",
    "```\n",
    "lista_mess = [10, \"hola\", 3.14, 5, \"mundo\", 2.71, 15, \"python\", 7.0, \"coder\", 99, 1.618]\n",
    "```\n",
    "\n",
    "Primera parte:\n",
    "\n",
    "Escribir una función filtro_enteros(elemento) que devuelva True si el elemento es un número entero, y False en caso contrario. Aplicar esta función a lista_misteriosa para obtener una lista solo con los números enteros.\n",
    "\n",
    "Segunda parte:\n",
    "\n",
    "Definir una nueva función filtro_cadenas_largas(elemento) que devuelva True si el elemento es una cadena de texto y tiene una longitud mayor o igual a 5 caracteres, y False en caso contrario. Aplica esta función a lista_mess para obtener una lista solo con las cadenas de texto largas."
   ]
  },
  {
   "cell_type": "markdown",
   "id": "5e4e92f2",
   "metadata": {},
   "source": [
    "### 8. La Carrera de Obstáculos\n",
    "\n",
    "Tenemos una lista de números que representan los tiempos (en segundos) que diferentes corredores tardaron en completar una carrera de obstáculos. Sin embargo, la lista contiene algunos valores inválidos (representados con el valor `-1`) que deben ser ignorados.\n",
    "\n",
    "```\n",
    "tiempos = [15.2, 16.8, -1, 17.5, 16.1, 15.9, 18.3, -1, 17.0, 16.5,\n",
    "           15.8, -1, 17.9, 16.3, 15.5, 18.1, -1, 17.2, 16.9, 16.0,\n",
    "           17.7, -1, 16.4, 15.6]\n",
    "```\n",
    "\n",
    "Escribe un programa que realice las siguientes tareas:\n",
    "\n",
    "+ Filtra la lista `tiempos` para eliminar todos los valores inválidos (-1).\n",
    "+ Calcula el tiempo promedio de los corredores.\n",
    "+ Identificar el tiempo más rápido y el tiempo más lento.\n",
    "+ Presentar los resultados de una manera clara y concisa, indicando el tiempo promedio, el tiempo más rápido y el tiempo más lento.\n"
   ]
  },
  {
   "cell_type": "code",
   "execution_count": null,
   "id": "02de809f",
   "metadata": {
    "vscode": {
     "languageId": "plaintext"
    }
   },
   "outputs": [],
   "source": []
  },
  {
   "cell_type": "markdown",
   "id": "13e92679",
   "metadata": {},
   "source": []
  },
  {
   "cell_type": "code",
   "execution_count": null,
   "id": "017206da",
   "metadata": {
    "vscode": {
     "languageId": "plaintext"
    }
   },
   "outputs": [],
   "source": []
  }
 ],
 "metadata": {
  "kernelspec": {
   "display_name": "Python 3 (ipykernel)",
   "language": "python",
   "name": "python3"
  },
  "language_info": {
   "codemirror_mode": {
    "name": "ipython",
    "version": 3
   },
   "file_extension": ".py",
   "mimetype": "text/x-python",
   "name": "python",
   "nbconvert_exporter": "python",
   "pygments_lexer": "ipython3",
   "version": "3.13.2"
  }
 },
 "nbformat": 4,
 "nbformat_minor": 5
}
