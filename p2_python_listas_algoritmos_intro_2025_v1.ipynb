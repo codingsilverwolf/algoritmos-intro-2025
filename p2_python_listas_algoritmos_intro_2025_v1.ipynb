{
 "cells": [
  {
   "cell_type": "markdown",
   "id": "73a03059-a31e-40c5-8bf3-68eafcfcb797",
   "metadata": {},
   "source": [
    "## 1. Crear una lista de números y sumar sus elementos:\n",
    "\n",
    "+ Crea una lista con x números aleatoreos del del 1 al 100.\n",
    "+ Usa un bucle para sumar todos los números y mostrar el resultado.\n"
   ]
  },
  {
   "cell_type": "markdown",
   "id": "38e01afb-b006-492f-9853-99bbd161966e",
   "metadata": {},
   "source": [
    "## 2. Eliminar elementos repetidos de una lista:\n",
    "\n",
    "+ Crea una lista con varios elementos, algunos de ellos repetidos.\n",
    "+ Elimina los elementos duplicados de la lista y muestra la lista resultante.\n"
   ]
  },
  {
   "cell_type": "markdown",
   "id": "2f3c386f-1599-4836-a935-973a5de25005",
   "metadata": {},
   "source": [
    "## 3. Ordenar una lista de palabras:\n",
    "\n",
    "+ Crea una lista con al menos 5 palabras.\n",
    "+ Ordena la lista en orden alfabético inverso (Z a A) y muestra la lista ordenada.\n"
   ]
  },
  {
   "cell_type": "markdown",
   "id": "9e3d131f-d4a3-464b-b9b7-41af2cc406f8",
   "metadata": {},
   "source": [
    "## 4. Contar la cantidad de elementos en una lista:\n",
    "\n",
    "+ Crea una lista con al menos 10 elementos.\n",
    "+ Cuenta cuántos elementos tiene la lista y muestra el resultado.\n"
   ]
  }
 ],
 "metadata": {
  "kernelspec": {
   "display_name": "Python 3 (ipykernel)",
   "language": "python",
   "name": "python3"
  },
  "language_info": {
   "codemirror_mode": {
    "name": "ipython",
    "version": 3
   },
   "file_extension": ".py",
   "mimetype": "text/x-python",
   "name": "python",
   "nbconvert_exporter": "python",
   "pygments_lexer": "ipython3",
   "version": "3.13.2"
  }
 },
 "nbformat": 4,
 "nbformat_minor": 5
}
