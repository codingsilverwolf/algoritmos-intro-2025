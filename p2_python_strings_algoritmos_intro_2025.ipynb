{
 "cells": [
  {
   "cell_type": "markdown",
   "id": "7bb01cf8-e385-45d2-801f-37992fc3908e",
   "metadata": {},
   "source": [
    "## 1.1 Contar vocales en una cadena\n",
    "\n",
    "+ Escribe un programa que pida al usuario ingresar una frase y cuente cuántas vocales (a, e, i, o, u) contiene.\n",
    "+ Muestra el resultado en pantalla.\n",
    "\n",
    "## 1.2 Ahora tenemos una lista de frases\n",
    "\n",
    "frases = [\n",
    "    \"El sabio sabe que no sabe\",\n",
    "    \"Ve lo bueno en los otros\",\n",
    "    \"Lo que te molesta de otro, es algo que no has resuelto en ti\"\n",
    "]\n",
    "\n",
    "## ¿Cómo aplicamos el código anterior sin tener que introducir cada string de a una?"
   ]
  },
  {
   "cell_type": "markdown",
   "id": "3df475e3-3f29-4c8f-905e-8d90f6e9a492",
   "metadata": {},
   "source": [
    "## 2. Invertir una cadena\n",
    "\n",
    "+ Crea una función que tome una palabra y luego muestre esa palabra invertida.\n",
    "+ Ejemplo: si el usuario ingresa \"Python\", el programa debe mostrar \"nohtyP\".\n",
    "\n"
   ]
  },
  {
   "cell_type": "markdown",
   "id": "bd2eac5f-0563-4ffe-b465-fa124c658d5f",
   "metadata": {},
   "source": [
    "## 3. Contar palabras en una frase\n",
    "\n",
    "+ Escribe una función que tome frase y cuente cuántas palabras tiene.\n",
    "+ Debes separar las palabras usando espacios como delimitador.\n",
    "\n"
   ]
  },
  {
   "cell_type": "markdown",
   "id": "58f68638-4c5d-420e-b75f-e46fd185bd87",
   "metadata": {},
   "source": [
    "## 4. Reemplazar caracteres en una cadena\n",
    "\n",
    "+ Crea una función que tome una frase y luego reemplace todas las ocurrencias de un carácter especificado por otro.\n",
    "+ Por ejemplo, si el usuario ingresa la frase \"hola mundo\" y el carácter a reemplazar es \"o\" por \"a\", la salida debe ser \"hala munda\".\n",
    "\n"
   ]
  },
  {
   "cell_type": "markdown",
   "id": "5a849098-54f0-4bbf-8efb-ecc9a369065c",
   "metadata": {},
   "source": [
    "## 5. Verificar si una palabra es un palíndromo\n",
    "\n",
    "+ Escribir una función que tome una palabra y determine si es un palindromo (es decir, que se lee igual al derecho y al revés).\n",
    "+ Ejemplo: \"reconocer\" es un palíndromo.\n"
   ]
  },
  {
   "cell_type": "markdown",
   "id": "6e3eaa5e-0a46-4aa9-aea1-3c7a875af1a4",
   "metadata": {},
   "source": [
    "## 6. Extraer una subcadena\n",
    "\n",
    "+ Escribe una función que tome una frase y luego dos números: el índice inicial y final.\n",
    "+ El programa debe extraer y mostrar la subcadena que comienza en el índice inicial y termina en el índice final.\n",
    "+ Por ejemplo, para la frase \"Aprendiendo Python\", si el índice inicial es 0 y el final es 10, la subcadena sería \"Aprendiendo\"."
   ]
  },
  {
   "cell_type": "markdown",
   "id": "73c52a60-6fe2-4255-95c8-be88ff9f204a",
   "metadata": {},
   "source": [
    "## 7. Formato de una oración\n",
    "\n",
    "+ Escribe una función que  tome  una frase y luego muestre la misma frase en los siguientes formatos:\n",
    "\n",
    " + Todo en mayúsculas.\n",
    " + Todo en minúsculas.\n",
    " + Solo la primera letra en mayúscula de cada palabra.\n"
   ]
  },
  {
   "cell_type": "markdown",
   "id": "e9e36cb3-a5cf-4f69-9785-9b0251da3fb8",
   "metadata": {},
   "source": [
    "## 8. Buscar una palabra en una frase\n",
    "\n",
    "+ Escribe una función que tome una frase y una palabra, y determine si la palabra se encuentra en la frase.\n",
    "+ El programa debe decir cuántas veces aparece la palabra en la frase."
   ]
  },
  {
   "cell_type": "markdown",
   "id": "ea7dcf39-6170-485e-9ff5-963daa295e4e",
   "metadata": {},
   "source": [
    "## 9. Eliminar espacios en blanco\n",
    "\n",
    "+ Crea un programa que una función que tome frase y elimine todos los espacios en blanco al principio y al final de la frase.\n",
    "+ También debes eliminar espacios duplicados dentro de la frase."
   ]
  },
  {
   "cell_type": "markdown",
   "id": "30726735-0d6c-40ad-8a69-52682926907b",
   "metadata": {},
   "source": [
    "## 10. Convertir una cadena en lista de palabras\n",
    "\n",
    "+ Escribe una función que tome una frase ingresada por el usuario en una lista de palabras.\n",
    "+ Luego, imprime cada palabra en una línea separada."
   ]
  },
  {
   "cell_type": "code",
   "execution_count": null,
   "id": "dbab8c5a-3db1-4c5d-afb4-646143a269ab",
   "metadata": {},
   "outputs": [],
   "source": []
  }
 ],
 "metadata": {
  "kernelspec": {
   "display_name": "Python 3 (ipykernel)",
   "language": "python",
   "name": "python3"
  },
  "language_info": {
   "codemirror_mode": {
    "name": "ipython",
    "version": 3
   },
   "file_extension": ".py",
   "mimetype": "text/x-python",
   "name": "python",
   "nbconvert_exporter": "python",
   "pygments_lexer": "ipython3",
   "version": "3.13.2"
  }
 },
 "nbformat": 4,
 "nbformat_minor": 5
}
