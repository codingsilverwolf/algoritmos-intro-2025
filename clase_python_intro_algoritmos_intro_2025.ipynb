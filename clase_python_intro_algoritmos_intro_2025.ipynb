{
 "cells": [
  {
   "cell_type": "markdown",
   "id": "a514b60d-c1f1-49af-bda2-8b5b44ff54bd",
   "metadata": {},
   "source": [
    "### [Escritura en Markdown](https://es.wikipedia.org/wiki/Markdown)\n",
    "\n",
    "### Para notación matemática encerrar la expresión entre signos $ y utilizar sintaxis de LaTex.\n",
    "\n",
    "Resover la ecuación:\n",
    "\n",
    "$\\frac{e^x -x}{x² -1} = 5 $\n",
    "\n",
    "$ x^2 - 4 = 0$ "
   ]
  },
  {
   "cell_type": "markdown",
   "id": "0852b088-e11b-4ca5-988c-afbc5546a4a1",
   "metadata": {},
   "source": [
    "## Strings (cadena de caracteres)"
   ]
  },
  {
   "cell_type": "code",
   "execution_count": 1,
   "id": "e28d4769-5dab-46c4-adc2-2ff4ce6b6e94",
   "metadata": {},
   "outputs": [
    {
     "name": "stdout",
     "output_type": "stream",
     "text": [
      "Programar es divertido\n",
      "P\n",
      "hola\n",
      "Programar es divertido\n",
      "Programa\n",
      "Programar es divertid\n",
      "Paevd\n",
      "Programar es divertido y me saco un 10\n",
      "hola hola hola hola hola \n",
      "\n"
     ]
    }
   ],
   "source": [
    "facto = \"Programar es divertido\"\n",
    "\n",
    "print(facto) # imprime el string\n",
    "\n",
    "# Manipulación de strings (# slicing)\n",
    "print(facto[0])\n",
    "print('hola')\n",
    "print(facto[:]) # slicing \n",
    "print(facto[:8]) # si no pongo nada al principio, es como poner 0\n",
    "print(facto[:-1])\n",
    "print(facto[::5]) # el tercer lugar es el step (default = 1)\n",
    "\n",
    "# concatenación\n",
    "facto =  facto + \" y me saco un 10\" \n",
    "\n",
    "print(facto)\n",
    "\n",
    "# concatenar una cantidad entera de veces\n",
    "\n",
    "print('hola '*5)\n",
    "print('hola mundo'*-1)"
   ]
  },
  {
   "cell_type": "markdown",
   "id": "14b0c85a-20b9-4367-9224-74f87e3bef21",
   "metadata": {},
   "source": [
    "### 1) Normalmente, cuando compramos algo, nos preguntamos si nuestro número de tarjeta de crédito, número de teléfono o la respuesta a nuestra pregunta más secreta siguen siendo correctos. Sin embargo, dado que alguien podría mirar por encima de nuestro hombro, no querríamos que eso se muestre en la pantalla. En cambio, lo enmascaramos.\n",
    "\n",
    "Su tarea es escribir una función enmascarar, que cambia todos los caracteres excepto los últimos cuatro a '#'.\n",
    "\n",
    "Ejemplos (entrada --> salida):\n",
    "\n",
    " `` \"4556364607935616\" --> \"#############5616\"``\n",
    " \n",
    " ``   \"64607935616\" --> \"#######5616\"  ``\n",
    "     \n",
    " `` \"1\" --> \"#\" ``\n",
    "                \n",
    " `` \"\" --> \"\"  ``\n",
    " \n",
    "\n",
    "// \"¿Cuál era el nombre de tu primera mascota?\"\n",
    "\n",
    "`` \"Skippy\" --> \"##ippy\" ``"
   ]
  },
  {
   "cell_type": "code",
   "execution_count": 2,
   "id": "22ae9ecd-0416-4bfa-9686-3b227c3fa139",
   "metadata": {},
   "outputs": [
    {
     "data": {
      "text/plain": [
       "'3'"
      ]
     },
     "execution_count": 2,
     "metadata": {},
     "output_type": "execute_result"
    }
   ],
   "source": [
    "def enmascarar_sin_buenas_practicas(dato_importante):\n",
    "    \n",
    "    \"\"\"\n",
    "    PROPÓSITO: enmascara *dato_importante* reemplazando con # todos sus caracteres     excepto los últimos 4.  \n",
    "    PRECONDICIONES: Ninguna.\n",
    "    PARÁMETROS: dato_importante. String. El dato a enmascarar.\n",
    "    TIPO: String    \n",
    "    \"\"\"\n",
    "    cantidad_almohaditas  = len(dato_importante)-4\n",
    "    cantidad_enmascarados = '#'*(cantidad_almohaditas) # cantidad de almohaditas\n",
    "    ultimos_cuatro = dato_importante[-4:] #dato_importante[cantidad_almohaditas:]\n",
    "    dato_enmascarado = cantidad_enmascarados + ultimos_cuatro # últimos 4\n",
    "    return dato_enmascarado\n",
    "\n",
    "enmascarar_sin_buenas_practicas('3')"
   ]
  },
  {
   "cell_type": "code",
   "execution_count": 3,
   "id": "4539fb64-0ed6-408f-a782-187b9b0fee8d",
   "metadata": {},
   "outputs": [
    {
     "data": {
      "text/plain": [
       "'3'"
      ]
     },
     "execution_count": 3,
     "metadata": {},
     "output_type": "execute_result"
    }
   ],
   "source": [
    "def enmascarar(dato_importante):\n",
    "    \n",
    "    \"\"\"\n",
    "    PROPÓSITO: enmascara *dato_importante* reemplazando con # todos sus caracteres     excepto los últimos 4.  \n",
    "    PRECONDICIONES: Ninguna.\n",
    "    PARÁMETROS: dato_importante. String. El dato a enmascarar.\n",
    "    TIPO: String    \n",
    "    \"\"\"   \n",
    "    cantidad_enmascarados = '#'*(len(dato_importante)-4) # cantidad de almohaditas\n",
    "    dato_enmascarado = cantidad_enmascarados + dato_importante[-4:] # últimos 4\n",
    "    return dato_enmascarado\n",
    "\n",
    "enmascarar('3')"
   ]
  },
  {
   "cell_type": "code",
   "execution_count": 4,
   "id": "842b419b-3123-4efa-8679-a8634814b43b",
   "metadata": {},
   "outputs": [
    {
     "data": {
      "text/plain": [
       "'###'"
      ]
     },
     "execution_count": 4,
     "metadata": {},
     "output_type": "execute_result"
    }
   ],
   "source": [
    "def enmascarar_con_detalle(dato_importante):\n",
    "    \"\"\"\n",
    "    PROPÓSITO: enmascara *dato_importante* reemplazando con # todos sus caracteres     excepto los últimos 4 si su longitud es mayor a 4, sino enmascara todo.  \n",
    "    PRECONDICIONES: Ninguna.\n",
    "    PARÁMETROS: dato_importante. String. El dato a enmascarar.\n",
    "    TIPO: String    \n",
    "    \"\"\"\n",
    "    \n",
    "    if len(dato_importante) > 4:\n",
    "        cantidad_enmascarados = '#'*(len(dato_importante)-4) # cantidad de almohaditas\n",
    "        dato_enmascarado = cantidad_enmascarados + dato_importante[-4:] # últimos 4\n",
    "    else:\n",
    "        dato_enmascarado = '#'*len(dato_importante)\n",
    "    return dato_enmascarado\n",
    "\n",
    "enmascarar_con_detalle('345')\n",
    "    "
   ]
  },
  {
   "cell_type": "markdown",
   "id": "6625f219-8440-4f04-8d39-6b898d1c49d7",
   "metadata": {},
   "source": [
    "### 2) Evaluar dirección de correo\n",
    "\n",
    "Nnivel 1: Si tiene @, es correcta, sino, no lo es."
   ]
  },
  {
   "cell_type": "code",
   "execution_count": 5,
   "id": "604e0055-185a-475a-b7d3-3b3ef396f440",
   "metadata": {},
   "outputs": [
    {
     "data": {
      "text/plain": [
       "True"
      ]
     },
     "execution_count": 5,
     "metadata": {},
     "output_type": "execute_result"
    }
   ],
   "source": [
    "def email_test_sin_buenas_practicas(email):\n",
    "    busqueda = False\n",
    "    for caracter in email:\n",
    "        #print(caracter)\n",
    "        if (caracter == '@'):\n",
    "            busqueda = True\n",
    "    return busqueda\n",
    "\n",
    "email_test_sin_buenas_practicas('pepito@unahur')\n",
    "\n",
    "def email_test(email):\n",
    "    i = 0 # contador\n",
    "    while (i < len(email)-1) and (email[i] != '@'):\n",
    "        #print(email[i])\n",
    "        i = i + 1\n",
    "        \n",
    "    return (email[i] == '@') # acá lee el último i cundo salió del while\n",
    "\n",
    "email_test('pepi@o.unahur')\n",
    "\n",
    "#print('pepito.unahur'[12])\n",
    "            "
   ]
  },
  {
   "cell_type": "markdown",
   "id": "79ba20dd-990d-4837-b6af-6511c5ca3a5e",
   "metadata": {},
   "source": [
    "### TAREA: Nnivel 2: Si tiene @, y si el dominio es \"unahur.edu.ar\" es correcta, sino, no lo es.\n",
    "\n",
    "La idea es trabajar las buenas prácticas de minimizar la anidación. Para eso, subtareas."
   ]
  },
  {
   "cell_type": "markdown",
   "id": "883c9fa8-a529-446f-b4fe-ebd552749ff3",
   "metadata": {},
   "source": [
    "# LISTAS"
   ]
  },
  {
   "cell_type": "code",
   "execution_count": 6,
   "id": "797e99d5-37fe-46d3-8f36-7e5d262a7e55",
   "metadata": {},
   "outputs": [
    {
     "name": "stdout",
     "output_type": "stream",
     "text": [
      "[1, 2, 'A']\n"
     ]
    }
   ],
   "source": [
    "lista1= [1, 2]\n",
    "\n",
    "print(lista1 + ['A'] )"
   ]
  },
  {
   "cell_type": "markdown",
   "id": "6e35f02d-76b2-4d77-b1e4-e6e1cbd0cf76",
   "metadata": {},
   "source": [
    "# Fibonachi"
   ]
  },
  {
   "cell_type": "code",
   "execution_count": 9,
   "id": "b51ff747-3b68-4bbf-b02d-98dd2c6fb4ba",
   "metadata": {},
   "outputs": [
    {
     "data": {
      "text/plain": [
       "[0, 1, 1, 2, 3, 5, 8]"
      ]
     },
     "execution_count": 9,
     "metadata": {},
     "output_type": "execute_result"
    }
   ],
   "source": [
    "'0, 1, 1, 2, 3, 5, 8, 13, 21 ...'\n",
    "\n",
    "def fibonacci(n):\n",
    "    \"\"\"\n",
    "    PROPÓSITO: armar una lista con los primeros *n* términos de      la sucesión de Fibonachi.\n",
    "    PRECONDICIONES:\n",
    "    PARÁMETROS:\n",
    "    TIPO:\n",
    "    \"\"\"\n",
    "    a, b = 0, 1 \n",
    "    sucesion = [] # lista vacía  \n",
    "    while len(sucesion) < n: \n",
    "        sucesion = sucesion + [a] \n",
    "        temp = a  # Guarda el valor actual de 'a'\n",
    "        a = b # acá ya se perdió el valor actual de a\n",
    "        b = temp + b \n",
    "    return sucesion\n",
    "\n",
    "fibonacci(7)"
   ]
  },
  {
   "cell_type": "code",
   "execution_count": 10,
   "id": "8f866366-e629-4648-bed2-731b1253b0c9",
   "metadata": {},
   "outputs": [
    {
     "data": {
      "text/plain": [
       "[0, 1, 1, 2, 3, 5, 8]"
      ]
     },
     "execution_count": 10,
     "metadata": {},
     "output_type": "execute_result"
    }
   ],
   "source": [
    "def fibonacci_eval_simultanea(n):\n",
    "    a, b = 0, 1\n",
    "    sucesion = []\n",
    "    while len(sucesion) < n:\n",
    "        sucesion = sucesion + [a]\n",
    "        a, b = b, a + b  # Asignación simultánea\n",
    "    return sucesion\n",
    "\n",
    "fibonacci_eval_simultanea(7)"
   ]
  },
  {
   "cell_type": "code",
   "execution_count": null,
   "id": "6f5bd3d4-a830-46e5-a687-064b79825e3b",
   "metadata": {},
   "outputs": [],
   "source": []
  }
 ],
 "metadata": {
  "kernelspec": {
   "display_name": "Python 3",
   "language": "python",
   "name": "python3"
  },
  "language_info": {
   "codemirror_mode": {
    "name": "ipython",
    "version": 3
   },
   "file_extension": ".py",
   "mimetype": "text/x-python",
   "name": "python",
   "nbconvert_exporter": "python",
   "pygments_lexer": "ipython3",
   "version": "3.10.12"
  }
 },
 "nbformat": 4,
 "nbformat_minor": 5
}
